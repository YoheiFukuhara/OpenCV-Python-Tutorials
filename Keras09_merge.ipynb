{
  "nbformat": 4,
  "nbformat_minor": 0,
  "metadata": {
    "colab": {
      "name": "Keras09_merge.ipynb",
      "version": "0.3.2",
      "provenance": [],
      "collapsed_sections": [],
      "include_colab_link": true
    },
    "kernelspec": {
      "name": "python3",
      "display_name": "Python 3"
    }
  },
  "cells": [
    {
      "cell_type": "markdown",
      "metadata": {
        "id": "view-in-github",
        "colab_type": "text"
      },
      "source": [
        "<a href=\"https://colab.research.google.com/github/YoheiFukuhara/OpenCV-Python-Tutorials/blob/master/Keras09_merge.ipynb\" target=\"_parent\"><img src=\"https://colab.research.google.com/assets/colab-badge.svg\" alt=\"Open In Colab\"/></a>"
      ]
    },
    {
      "cell_type": "markdown",
      "metadata": {
        "id": "FSTTBbGLud1W",
        "colab_type": "text"
      },
      "source": [
        "以下の記事参照\n",
        "- [超簡単 Kerasで複数Input統合モデル\n",
        "](https://qiita.com/FukuharaYohei/items/58cfbce0ed81833a2da1)\n",
        "- [Kerasで複数の入力を統合/マージする方法](https://urusulambda.wordpress.com/2018/03/04/keras%E3%81%A7%E8%A4%87%E6%95%B0%E3%81%AE%E5%85%A5%E5%8A%9B%E3%82%92%E7%B5%B1%E5%90%88-%E3%83%9E%E3%83%BC%E3%82%B8%E3%81%99%E3%82%8B%E6%96%B9%E6%B3%95/)"
      ]
    },
    {
      "cell_type": "code",
      "metadata": {
        "id": "knd1EiVc55EU",
        "colab_type": "code",
        "colab": {}
      },
      "source": [
        "from random import random\n",
        "\n",
        "import matplotlib.pyplot as plt\n",
        "from tensorflow.keras.layers import Input, concatenate, Dense\n",
        "from tensorflow.keras.models import Model\n",
        "from tensorflow.python.keras.utils.vis_utils import plot_model\n",
        "import numpy as np"
      ],
      "execution_count": 0,
      "outputs": []
    },
    {
      "cell_type": "markdown",
      "metadata": {
        "id": "tD3dAAWNkA-Y",
        "colab_type": "text"
      },
      "source": [
        "# 前処理"
      ]
    },
    {
      "cell_type": "code",
      "metadata": {
        "id": "Nx-5r-97tcKe",
        "colab_type": "code",
        "colab": {}
      },
      "source": [
        "NUM_TRAIN = 256\n",
        "\n",
        "x_train1 = np.empty((0, 1)) # 入力(説明変数)1\n",
        "x_train2 = np.empty((0, 1)) # 入力(説明変数)2\n",
        "y_train = np.empty((0, 1)) # 正解ラベル(目的変数)"
      ],
      "execution_count": 0,
      "outputs": []
    },
    {
      "cell_type": "markdown",
      "metadata": {
        "id": "llirpHl8kTG7",
        "colab_type": "text"
      },
      "source": [
        "入力と正解ラベルの関係性\n",
        "\n",
        "- 入力1と入力2の和が1未満の場合は、正解ラベルを0\n",
        "- 入力1と入力2の和が1以上の場合は、正解ラベルを1\n"
      ]
    },
    {
      "cell_type": "code",
      "metadata": {
        "id": "81cvxjW-j8oZ",
        "colab_type": "code",
        "colab": {}
      },
      "source": [
        "for i in range(NUM_TRAIN):\n",
        "    x1 = np.array(random()) # 0から1までの乱数\n",
        "    x2 = np.array(random()) # 0から1までの乱数\n",
        "    if x1 + x2 < 1:\n",
        "        y_train = np.append(y_train, np.zeros(1).reshape(1, 1), axis=0)\n",
        "    else:\n",
        "        y_train = np.append(y_train, np.ones(1).reshape(1, 1), axis=0)\n",
        "    x_train1 = np.append(x_train1, x1.reshape(1, 1), axis=0)\n",
        "    x_train2 = np.append(x_train2, x2.reshape(1, 1), axis=0)"
      ],
      "execution_count": 0,
      "outputs": []
    },
    {
      "cell_type": "code",
      "metadata": {
        "id": "DFGEJhB3et65",
        "colab_type": "code",
        "outputId": "fc5429cc-a4ae-41b3-85ca-5391ff2c8e50",
        "colab": {
          "base_uri": "https://localhost:8080/",
          "height": 69
        }
      },
      "source": [
        "# shapeの確認\n",
        "print(x_train1.shape)\n",
        "print(x_train2.shape)\n",
        "print(y_train.shape)"
      ],
      "execution_count": 6,
      "outputs": [
        {
          "output_type": "stream",
          "text": [
            "(256, 1)\n",
            "(256, 1)\n",
            "(256, 1)\n"
          ],
          "name": "stdout"
        }
      ]
    },
    {
      "cell_type": "markdown",
      "metadata": {
        "id": "YS6M8nNXlWly",
        "colab_type": "text"
      },
      "source": [
        "# モデル定義"
      ]
    },
    {
      "cell_type": "code",
      "metadata": {
        "id": "Hpo0OcEGh376",
        "colab_type": "code",
        "outputId": "b008e75d-72cb-4004-e798-5da53ffb4dd9",
        "colab": {
          "base_uri": "https://localhost:8080/",
          "height": 557
        }
      },
      "source": [
        "# 入力を定義\n",
        "input1 = Input(shape=(1,))\n",
        "input2 = Input(shape=(1,))\n",
        " \n",
        "# 入力1から結合前まで\n",
        "x = Dense(1, activation=\"linear\")(input1)\n",
        "x = Model(inputs=input1, outputs=x)\n",
        " \n",
        "# 入力2から結合前まで\n",
        "y = Dense(1, activation=\"linear\")(input2)\n",
        "y = Model(inputs=input2, outputs=y)\n",
        " \n",
        "# 結合\n",
        "combined = concatenate([x.output, y.output])\n",
        " \n",
        "# 密結合\n",
        "z = Dense(32, activation=\"tanh\")(combined)\n",
        "z = Dense(1, activation=\"sigmoid\")(z)\n",
        "\n",
        "# モデル定義とコンパイル\n",
        "model = Model(inputs=[x.input, y.input], outputs=z)\n",
        "model.compile(loss='binary_crossentropy', optimizer='adam', metrics=['acc'])\n",
        "model.summary()"
      ],
      "execution_count": 7,
      "outputs": [
        {
          "output_type": "stream",
          "text": [
            "WARNING: Logging before flag parsing goes to stderr.\n",
            "W0830 09:39:23.638769 140281261860736 deprecation.py:506] From /usr/local/lib/python3.6/dist-packages/tensorflow/python/ops/init_ops.py:1251: calling VarianceScaling.__init__ (from tensorflow.python.ops.init_ops) with dtype is deprecated and will be removed in a future version.\n",
            "Instructions for updating:\n",
            "Call initializer instance with the dtype argument instead of passing it to the constructor\n",
            "W0830 09:39:23.741100 140281261860736 deprecation.py:323] From /usr/local/lib/python3.6/dist-packages/tensorflow/python/ops/nn_impl.py:180: add_dispatch_support.<locals>.wrapper (from tensorflow.python.ops.array_ops) is deprecated and will be removed in a future version.\n",
            "Instructions for updating:\n",
            "Use tf.where in 2.0, which has the same broadcast rule as np.where\n"
          ],
          "name": "stderr"
        },
        {
          "output_type": "stream",
          "text": [
            "Model: \"model_2\"\n",
            "__________________________________________________________________________________________________\n",
            "Layer (type)                    Output Shape         Param #     Connected to                     \n",
            "==================================================================================================\n",
            "input_1 (InputLayer)            [(None, 1)]          0                                            \n",
            "__________________________________________________________________________________________________\n",
            "input_2 (InputLayer)            [(None, 1)]          0                                            \n",
            "__________________________________________________________________________________________________\n",
            "dense (Dense)                   (None, 1)            2           input_1[0][0]                    \n",
            "__________________________________________________________________________________________________\n",
            "dense_1 (Dense)                 (None, 1)            2           input_2[0][0]                    \n",
            "__________________________________________________________________________________________________\n",
            "concatenate (Concatenate)       (None, 2)            0           dense[0][0]                      \n",
            "                                                                 dense_1[0][0]                    \n",
            "__________________________________________________________________________________________________\n",
            "dense_2 (Dense)                 (None, 32)           96          concatenate[0][0]                \n",
            "__________________________________________________________________________________________________\n",
            "dense_3 (Dense)                 (None, 1)            33          dense_2[0][0]                    \n",
            "==================================================================================================\n",
            "Total params: 133\n",
            "Trainable params: 133\n",
            "Non-trainable params: 0\n",
            "__________________________________________________________________________________________________\n"
          ],
          "name": "stdout"
        }
      ]
    },
    {
      "cell_type": "code",
      "metadata": {
        "id": "7s4wguDx459b",
        "colab_type": "code",
        "colab": {
          "base_uri": "https://localhost:8080/",
          "height": 533
        },
        "outputId": "5684926a-d75d-4953-bafe-6cdf8e130d23"
      },
      "source": [
        "plot_model(model, show_shapes=True, show_layer_names=False)"
      ],
      "execution_count": 8,
      "outputs": [
        {
          "output_type": "execute_result",
          "data": {
            "image/png": "[encoded data removed]",
            "text/plain": [
              "<IPython.core.display.Image object>"
            ]
          },
          "metadata": {
            "tags": []
          },
          "execution_count": 8
        }
      ]
    },
    {
      "cell_type": "markdown",
      "metadata": {
        "id": "kao6WGFullQX",
        "colab_type": "text"
      },
      "source": [
        "# 訓練開始"
      ]
    },
    {
      "cell_type": "code",
      "metadata": {
        "id": "1Owcxcs2gdC1",
        "colab_type": "code",
        "outputId": "742b867c-9fe3-4fd9-b05f-698408c8e6dc",
        "colab": {
          "base_uri": "https://localhost:8080/",
          "height": 1000
        }
      },
      "source": [
        "history = model.fit([x_train1, x_train2], y_train, epochs=200)"
      ],
      "execution_count": 9,
      "outputs": [
        {
          "output_type": "stream",
          "text": [
            "Epoch 1/200\n",
            "256/256 [==============================] - 0s 1ms/sample - loss: 0.7011 - acc: 0.5430\n",
            "Epoch 2/200\n",
            "256/256 [==============================] - 0s 52us/sample - loss: 0.6984 - acc: 0.5430\n",
            "Epoch 3/200\n",
            "256/256 [==============================] - 0s 48us/sample - loss: 0.6957 - acc: 0.5430\n",
            "Epoch 4/200\n",
            "256/256 [==============================] - 0s 47us/sample - loss: 0.6934 - acc: 0.5430\n",
            "Epoch 5/200\n",
            "256/256 [==============================] - 0s 50us/sample - loss: 0.6911 - acc: 0.5430\n",
            "Epoch 6/200\n",
            "256/256 [==============================] - 0s 49us/sample - loss: 0.6888 - acc: 0.5430\n",
            "Epoch 7/200\n",
            "256/256 [==============================] - 0s 49us/sample - loss: 0.6864 - acc: 0.5430\n",
            "Epoch 8/200\n",
            "256/256 [==============================] - 0s 50us/sample - loss: 0.6839 - acc: 0.5430\n",
            "Epoch 9/200\n",
            "256/256 [==============================] - 0s 45us/sample - loss: 0.6811 - acc: 0.5430\n",
            "Epoch 10/200\n",
            "256/256 [==============================] - 0s 49us/sample - loss: 0.6781 - acc: 0.5430\n",
            "Epoch 11/200\n",
            "256/256 [==============================] - 0s 44us/sample - loss: 0.6747 - acc: 0.5430\n",
            "Epoch 12/200\n",
            "256/256 [==============================] - 0s 44us/sample - loss: 0.6709 - acc: 0.5547\n",
            "Epoch 13/200\n",
            "256/256 [==============================] - 0s 48us/sample - loss: 0.6667 - acc: 0.5977\n",
            "Epoch 14/200\n",
            "256/256 [==============================] - 0s 42us/sample - loss: 0.6615 - acc: 0.6562\n",
            "Epoch 15/200\n",
            "256/256 [==============================] - 0s 45us/sample - loss: 0.6561 - acc: 0.6836\n",
            "Epoch 16/200\n",
            "256/256 [==============================] - 0s 44us/sample - loss: 0.6502 - acc: 0.7070\n",
            "Epoch 17/200\n",
            "256/256 [==============================] - 0s 47us/sample - loss: 0.6433 - acc: 0.7617\n",
            "Epoch 18/200\n",
            "256/256 [==============================] - 0s 53us/sample - loss: 0.6359 - acc: 0.8008\n",
            "Epoch 19/200\n",
            "256/256 [==============================] - 0s 55us/sample - loss: 0.6281 - acc: 0.8477\n",
            "Epoch 20/200\n",
            "256/256 [==============================] - 0s 46us/sample - loss: 0.6193 - acc: 0.8594\n",
            "Epoch 21/200\n",
            "256/256 [==============================] - 0s 58us/sample - loss: 0.6100 - acc: 0.9062\n",
            "Epoch 22/200\n",
            "256/256 [==============================] - 0s 46us/sample - loss: 0.5999 - acc: 0.9297\n",
            "Epoch 23/200\n",
            "256/256 [==============================] - 0s 47us/sample - loss: 0.5891 - acc: 0.9219\n",
            "Epoch 24/200\n",
            "256/256 [==============================] - 0s 59us/sample - loss: 0.5774 - acc: 0.9258\n",
            "Epoch 25/200\n",
            "256/256 [==============================] - 0s 45us/sample - loss: 0.5659 - acc: 0.9180\n",
            "Epoch 26/200\n",
            "256/256 [==============================] - 0s 46us/sample - loss: 0.5527 - acc: 0.9258\n",
            "Epoch 27/200\n",
            "256/256 [==============================] - 0s 56us/sample - loss: 0.5401 - acc: 0.9336\n",
            "Epoch 28/200\n",
            "256/256 [==============================] - 0s 48us/sample - loss: 0.5257 - acc: 0.9375\n",
            "Epoch 29/200\n",
            "256/256 [==============================] - 0s 52us/sample - loss: 0.5120 - acc: 0.9375\n",
            "Epoch 30/200\n",
            "256/256 [==============================] - 0s 52us/sample - loss: 0.4973 - acc: 0.9531\n",
            "Epoch 31/200\n",
            "256/256 [==============================] - 0s 46us/sample - loss: 0.4828 - acc: 0.9492\n",
            "Epoch 32/200\n",
            "256/256 [==============================] - 0s 60us/sample - loss: 0.4682 - acc: 0.9570\n",
            "Epoch 33/200\n",
            "256/256 [==============================] - 0s 54us/sample - loss: 0.4532 - acc: 0.9531\n",
            "Epoch 34/200\n",
            "256/256 [==============================] - 0s 59us/sample - loss: 0.4389 - acc: 0.9570\n",
            "Epoch 35/200\n",
            "256/256 [==============================] - 0s 59us/sample - loss: 0.4245 - acc: 0.9609\n",
            "Epoch 36/200\n",
            "256/256 [==============================] - 0s 46us/sample - loss: 0.4103 - acc: 0.9648\n",
            "Epoch 37/200\n",
            "256/256 [==============================] - 0s 47us/sample - loss: 0.3966 - acc: 0.9609\n",
            "Epoch 38/200\n",
            "256/256 [==============================] - 0s 45us/sample - loss: 0.3834 - acc: 0.9766\n",
            "Epoch 39/200\n",
            "256/256 [==============================] - 0s 46us/sample - loss: 0.3702 - acc: 0.9727\n",
            "Epoch 40/200\n",
            "256/256 [==============================] - 0s 47us/sample - loss: 0.3594 - acc: 0.9766\n",
            "Epoch 41/200\n",
            "256/256 [==============================] - 0s 46us/sample - loss: 0.3460 - acc: 0.9766\n",
            "Epoch 42/200\n",
            "256/256 [==============================] - 0s 47us/sample - loss: 0.3352 - acc: 0.9727\n",
            "Epoch 43/200\n",
            "256/256 [==============================] - 0s 44us/sample - loss: 0.3237 - acc: 0.9766\n",
            "Epoch 44/200\n",
            "256/256 [==============================] - 0s 47us/sample - loss: 0.3134 - acc: 0.9844\n",
            "Epoch 45/200\n",
            "256/256 [==============================] - 0s 50us/sample - loss: 0.3038 - acc: 0.9844\n",
            "Epoch 46/200\n",
            "256/256 [==============================] - 0s 49us/sample - loss: 0.2938 - acc: 0.9883\n",
            "Epoch 47/200\n",
            "256/256 [==============================] - 0s 44us/sample - loss: 0.2855 - acc: 0.9844\n",
            "Epoch 48/200\n",
            "256/256 [==============================] - 0s 50us/sample - loss: 0.2765 - acc: 0.9844\n",
            "Epoch 49/200\n",
            "256/256 [==============================] - 0s 48us/sample - loss: 0.2687 - acc: 0.9844\n",
            "Epoch 50/200\n",
            "256/256 [==============================] - 0s 49us/sample - loss: 0.2621 - acc: 0.9883\n",
            "Epoch 51/200\n",
            "256/256 [==============================] - 0s 69us/sample - loss: 0.2540 - acc: 0.9844\n",
            "Epoch 52/200\n",
            "256/256 [==============================] - 0s 44us/sample - loss: 0.2466 - acc: 0.9844\n",
            "Epoch 53/200\n",
            "256/256 [==============================] - 0s 52us/sample - loss: 0.2401 - acc: 0.9844\n",
            "Epoch 54/200\n",
            "256/256 [==============================] - 0s 51us/sample - loss: 0.2338 - acc: 0.9844\n",
            "Epoch 55/200\n",
            "256/256 [==============================] - 0s 52us/sample - loss: 0.2279 - acc: 0.9883\n",
            "Epoch 56/200\n",
            "256/256 [==============================] - 0s 59us/sample - loss: 0.2230 - acc: 0.9883\n",
            "Epoch 57/200\n",
            "256/256 [==============================] - 0s 55us/sample - loss: 0.2180 - acc: 1.0000\n",
            "Epoch 58/200\n",
            "256/256 [==============================] - 0s 56us/sample - loss: 0.2129 - acc: 0.9883\n",
            "Epoch 59/200\n",
            "256/256 [==============================] - 0s 67us/sample - loss: 0.2068 - acc: 0.9844\n",
            "Epoch 60/200\n",
            "256/256 [==============================] - 0s 47us/sample - loss: 0.2021 - acc: 0.9922\n",
            "Epoch 61/200\n",
            "256/256 [==============================] - 0s 48us/sample - loss: 0.1977 - acc: 0.9922\n",
            "Epoch 62/200\n",
            "256/256 [==============================] - 0s 48us/sample - loss: 0.1939 - acc: 0.9883\n",
            "Epoch 63/200\n",
            "256/256 [==============================] - 0s 49us/sample - loss: 0.1895 - acc: 0.9922\n",
            "Epoch 64/200\n",
            "256/256 [==============================] - 0s 57us/sample - loss: 0.1853 - acc: 0.9922\n",
            "Epoch 65/200\n",
            "256/256 [==============================] - 0s 64us/sample - loss: 0.1817 - acc: 0.9922\n",
            "Epoch 66/200\n",
            "256/256 [==============================] - 0s 61us/sample - loss: 0.1782 - acc: 0.9883\n",
            "Epoch 67/200\n",
            "256/256 [==============================] - 0s 57us/sample - loss: 0.1747 - acc: 0.9883\n",
            "Epoch 68/200\n",
            "256/256 [==============================] - 0s 55us/sample - loss: 0.1729 - acc: 0.9961\n",
            "Epoch 69/200\n",
            "256/256 [==============================] - 0s 50us/sample - loss: 0.1682 - acc: 1.0000\n",
            "Epoch 70/200\n",
            "256/256 [==============================] - 0s 58us/sample - loss: 0.1651 - acc: 0.9922\n",
            "Epoch 71/200\n",
            "256/256 [==============================] - 0s 51us/sample - loss: 0.1622 - acc: 0.9922\n",
            "Epoch 72/200\n",
            "256/256 [==============================] - 0s 51us/sample - loss: 0.1598 - acc: 0.9883\n",
            "Epoch 73/200\n",
            "256/256 [==============================] - 0s 49us/sample - loss: 0.1568 - acc: 0.9883\n",
            "Epoch 74/200\n",
            "256/256 [==============================] - 0s 49us/sample - loss: 0.1537 - acc: 1.0000\n",
            "Epoch 75/200\n",
            "256/256 [==============================] - 0s 52us/sample - loss: 0.1514 - acc: 1.0000\n",
            "Epoch 76/200\n",
            "256/256 [==============================] - 0s 55us/sample - loss: 0.1494 - acc: 0.9961\n",
            "Epoch 77/200\n",
            "256/256 [==============================] - 0s 57us/sample - loss: 0.1465 - acc: 0.9961\n",
            "Epoch 78/200\n",
            "256/256 [==============================] - 0s 55us/sample - loss: 0.1445 - acc: 1.0000\n",
            "Epoch 79/200\n",
            "256/256 [==============================] - 0s 46us/sample - loss: 0.1423 - acc: 0.9961\n",
            "Epoch 80/200\n",
            "256/256 [==============================] - 0s 48us/sample - loss: 0.1398 - acc: 0.9922\n",
            "Epoch 81/200\n",
            "256/256 [==============================] - 0s 49us/sample - loss: 0.1378 - acc: 1.0000\n",
            "Epoch 82/200\n",
            "256/256 [==============================] - 0s 47us/sample - loss: 0.1358 - acc: 1.0000\n",
            "Epoch 83/200\n",
            "256/256 [==============================] - 0s 60us/sample - loss: 0.1345 - acc: 0.9961\n",
            "Epoch 84/200\n",
            "256/256 [==============================] - 0s 48us/sample - loss: 0.1326 - acc: 0.9961\n",
            "Epoch 85/200\n",
            "256/256 [==============================] - 0s 47us/sample - loss: 0.1303 - acc: 1.0000\n",
            "Epoch 86/200\n",
            "256/256 [==============================] - 0s 51us/sample - loss: 0.1281 - acc: 1.0000\n",
            "Epoch 87/200\n",
            "256/256 [==============================] - 0s 45us/sample - loss: 0.1271 - acc: 0.9844\n",
            "Epoch 88/200\n",
            "256/256 [==============================] - 0s 59us/sample - loss: 0.1248 - acc: 0.9922\n",
            "Epoch 89/200\n",
            "256/256 [==============================] - 0s 56us/sample - loss: 0.1231 - acc: 1.0000\n",
            "Epoch 90/200\n",
            "256/256 [==============================] - 0s 57us/sample - loss: 0.1215 - acc: 1.0000\n",
            "Epoch 91/200\n",
            "256/256 [==============================] - 0s 45us/sample - loss: 0.1202 - acc: 0.9961\n",
            "Epoch 92/200\n",
            "256/256 [==============================] - 0s 49us/sample - loss: 0.1186 - acc: 0.9961\n",
            "Epoch 93/200\n",
            "256/256 [==============================] - 0s 61us/sample - loss: 0.1167 - acc: 1.0000\n",
            "Epoch 94/200\n",
            "256/256 [==============================] - 0s 65us/sample - loss: 0.1154 - acc: 1.0000\n",
            "Epoch 95/200\n",
            "256/256 [==============================] - 0s 43us/sample - loss: 0.1139 - acc: 1.0000\n",
            "Epoch 96/200\n",
            "256/256 [==============================] - 0s 44us/sample - loss: 0.1128 - acc: 1.0000\n",
            "Epoch 97/200\n",
            "256/256 [==============================] - 0s 52us/sample - loss: 0.1113 - acc: 1.0000\n",
            "Epoch 98/200\n",
            "256/256 [==============================] - 0s 47us/sample - loss: 0.1100 - acc: 1.0000\n",
            "Epoch 99/200\n",
            "256/256 [==============================] - 0s 52us/sample - loss: 0.1088 - acc: 1.0000\n",
            "Epoch 100/200\n",
            "256/256 [==============================] - 0s 50us/sample - loss: 0.1072 - acc: 1.0000\n",
            "Epoch 101/200\n",
            "256/256 [==============================] - 0s 55us/sample - loss: 0.1067 - acc: 0.9961\n",
            "Epoch 102/200\n",
            "256/256 [==============================] - 0s 58us/sample - loss: 0.1047 - acc: 1.0000\n",
            "Epoch 103/200\n",
            "256/256 [==============================] - 0s 58us/sample - loss: 0.1037 - acc: 1.0000\n",
            "Epoch 104/200\n",
            "256/256 [==============================] - 0s 60us/sample - loss: 0.1027 - acc: 1.0000\n",
            "Epoch 105/200\n",
            "256/256 [==============================] - 0s 55us/sample - loss: 0.1015 - acc: 1.0000\n",
            "Epoch 106/200\n",
            "256/256 [==============================] - 0s 51us/sample - loss: 0.1002 - acc: 1.0000\n",
            "Epoch 107/200\n",
            "256/256 [==============================] - 0s 51us/sample - loss: 0.0993 - acc: 1.0000\n",
            "Epoch 108/200\n",
            "256/256 [==============================] - 0s 51us/sample - loss: 0.0983 - acc: 1.0000\n",
            "Epoch 109/200\n",
            "256/256 [==============================] - 0s 54us/sample - loss: 0.0971 - acc: 1.0000\n",
            "Epoch 110/200\n",
            "256/256 [==============================] - 0s 47us/sample - loss: 0.0965 - acc: 1.0000\n",
            "Epoch 111/200\n",
            "256/256 [==============================] - 0s 56us/sample - loss: 0.0954 - acc: 1.0000\n",
            "Epoch 112/200\n",
            "256/256 [==============================] - 0s 50us/sample - loss: 0.0943 - acc: 1.0000\n",
            "Epoch 113/200\n",
            "256/256 [==============================] - 0s 69us/sample - loss: 0.0932 - acc: 1.0000\n",
            "Epoch 114/200\n",
            "256/256 [==============================] - 0s 63us/sample - loss: 0.0925 - acc: 1.0000\n",
            "Epoch 115/200\n",
            "256/256 [==============================] - 0s 48us/sample - loss: 0.0913 - acc: 1.0000\n",
            "Epoch 116/200\n",
            "256/256 [==============================] - 0s 48us/sample - loss: 0.0906 - acc: 1.0000\n",
            "Epoch 117/200\n",
            "256/256 [==============================] - 0s 47us/sample - loss: 0.0903 - acc: 1.0000\n",
            "Epoch 118/200\n",
            "256/256 [==============================] - 0s 48us/sample - loss: 0.0886 - acc: 1.0000\n",
            "Epoch 119/200\n",
            "256/256 [==============================] - 0s 47us/sample - loss: 0.0881 - acc: 1.0000\n",
            "Epoch 120/200\n",
            "256/256 [==============================] - 0s 47us/sample - loss: 0.0871 - acc: 1.0000\n",
            "Epoch 121/200\n",
            "256/256 [==============================] - 0s 46us/sample - loss: 0.0866 - acc: 1.0000\n",
            "Epoch 122/200\n",
            "256/256 [==============================] - 0s 47us/sample - loss: 0.0855 - acc: 1.0000\n",
            "Epoch 123/200\n",
            "256/256 [==============================] - 0s 47us/sample - loss: 0.0848 - acc: 1.0000\n",
            "Epoch 124/200\n",
            "256/256 [==============================] - 0s 50us/sample - loss: 0.0843 - acc: 1.0000\n",
            "Epoch 125/200\n",
            "256/256 [==============================] - 0s 47us/sample - loss: 0.0831 - acc: 1.0000\n",
            "Epoch 126/200\n",
            "256/256 [==============================] - 0s 47us/sample - loss: 0.0832 - acc: 1.0000\n",
            "Epoch 127/200\n",
            "256/256 [==============================] - 0s 47us/sample - loss: 0.0815 - acc: 1.0000\n",
            "Epoch 128/200\n",
            "256/256 [==============================] - 0s 55us/sample - loss: 0.0812 - acc: 0.9961\n",
            "Epoch 129/200\n",
            "256/256 [==============================] - 0s 46us/sample - loss: 0.0805 - acc: 1.0000\n",
            "Epoch 130/200\n",
            "256/256 [==============================] - 0s 47us/sample - loss: 0.0797 - acc: 1.0000\n",
            "Epoch 131/200\n",
            "256/256 [==============================] - 0s 48us/sample - loss: 0.0789 - acc: 1.0000\n",
            "Epoch 132/200\n",
            "256/256 [==============================] - 0s 48us/sample - loss: 0.0783 - acc: 1.0000\n",
            "Epoch 133/200\n",
            "256/256 [==============================] - 0s 73us/sample - loss: 0.0776 - acc: 1.0000\n",
            "Epoch 134/200\n",
            "256/256 [==============================] - 0s 63us/sample - loss: 0.0769 - acc: 1.0000\n",
            "Epoch 135/200\n",
            "256/256 [==============================] - 0s 49us/sample - loss: 0.0762 - acc: 1.0000\n",
            "Epoch 136/200\n",
            "256/256 [==============================] - 0s 46us/sample - loss: 0.0756 - acc: 1.0000\n",
            "Epoch 137/200\n",
            "256/256 [==============================] - 0s 44us/sample - loss: 0.0752 - acc: 1.0000\n",
            "Epoch 138/200\n",
            "256/256 [==============================] - 0s 49us/sample - loss: 0.0746 - acc: 1.0000\n",
            "Epoch 139/200\n",
            "256/256 [==============================] - 0s 46us/sample - loss: 0.0738 - acc: 1.0000\n",
            "Epoch 140/200\n",
            "256/256 [==============================] - 0s 48us/sample - loss: 0.0731 - acc: 1.0000\n",
            "Epoch 141/200\n",
            "256/256 [==============================] - 0s 44us/sample - loss: 0.0726 - acc: 1.0000\n",
            "Epoch 142/200\n",
            "256/256 [==============================] - 0s 44us/sample - loss: 0.0723 - acc: 1.0000\n",
            "Epoch 143/200\n",
            "256/256 [==============================] - 0s 49us/sample - loss: 0.0716 - acc: 1.0000\n",
            "Epoch 144/200\n",
            "256/256 [==============================] - 0s 46us/sample - loss: 0.0708 - acc: 1.0000\n",
            "Epoch 145/200\n",
            "256/256 [==============================] - 0s 47us/sample - loss: 0.0704 - acc: 1.0000\n",
            "Epoch 146/200\n",
            "256/256 [==============================] - 0s 56us/sample - loss: 0.0699 - acc: 1.0000\n",
            "Epoch 147/200\n",
            "256/256 [==============================] - 0s 46us/sample - loss: 0.0693 - acc: 1.0000\n",
            "Epoch 148/200\n",
            "256/256 [==============================] - 0s 55us/sample - loss: 0.0687 - acc: 1.0000\n",
            "Epoch 149/200\n",
            "256/256 [==============================] - 0s 67us/sample - loss: 0.0687 - acc: 1.0000\n",
            "Epoch 150/200\n",
            "256/256 [==============================] - 0s 47us/sample - loss: 0.0680 - acc: 1.0000\n",
            "Epoch 151/200\n",
            "256/256 [==============================] - 0s 44us/sample - loss: 0.0673 - acc: 0.9961\n",
            "Epoch 152/200\n",
            "256/256 [==============================] - 0s 54us/sample - loss: 0.0671 - acc: 1.0000\n",
            "Epoch 153/200\n",
            "256/256 [==============================] - 0s 44us/sample - loss: 0.0664 - acc: 1.0000\n",
            "Epoch 154/200\n",
            "256/256 [==============================] - 0s 48us/sample - loss: 0.0660 - acc: 1.0000\n",
            "Epoch 155/200\n",
            "256/256 [==============================] - 0s 49us/sample - loss: 0.0654 - acc: 1.0000\n",
            "Epoch 156/200\n",
            "256/256 [==============================] - 0s 55us/sample - loss: 0.0669 - acc: 1.0000\n",
            "Epoch 157/200\n",
            "256/256 [==============================] - 0s 50us/sample - loss: 0.0641 - acc: 1.0000\n",
            "Epoch 158/200\n",
            "256/256 [==============================] - 0s 50us/sample - loss: 0.0642 - acc: 0.9961\n",
            "Epoch 159/200\n",
            "256/256 [==============================] - 0s 61us/sample - loss: 0.0638 - acc: 0.9961\n",
            "Epoch 160/200\n",
            "256/256 [==============================] - 0s 49us/sample - loss: 0.0630 - acc: 1.0000\n",
            "Epoch 161/200\n",
            "256/256 [==============================] - 0s 59us/sample - loss: 0.0626 - acc: 1.0000\n",
            "Epoch 162/200\n",
            "256/256 [==============================] - 0s 48us/sample - loss: 0.0623 - acc: 1.0000\n",
            "Epoch 163/200\n",
            "256/256 [==============================] - 0s 67us/sample - loss: 0.0616 - acc: 1.0000\n",
            "Epoch 164/200\n",
            "256/256 [==============================] - 0s 48us/sample - loss: 0.0612 - acc: 1.0000\n",
            "Epoch 165/200\n",
            "256/256 [==============================] - 0s 48us/sample - loss: 0.0609 - acc: 1.0000\n",
            "Epoch 166/200\n",
            "256/256 [==============================] - 0s 49us/sample - loss: 0.0605 - acc: 1.0000\n",
            "Epoch 167/200\n",
            "256/256 [==============================] - 0s 55us/sample - loss: 0.0599 - acc: 1.0000\n",
            "Epoch 168/200\n",
            "256/256 [==============================] - 0s 58us/sample - loss: 0.0598 - acc: 1.0000\n",
            "Epoch 169/200\n",
            "256/256 [==============================] - 0s 53us/sample - loss: 0.0603 - acc: 0.9961\n",
            "Epoch 170/200\n",
            "256/256 [==============================] - 0s 55us/sample - loss: 0.0584 - acc: 1.0000\n",
            "Epoch 171/200\n",
            "256/256 [==============================] - 0s 56us/sample - loss: 0.0583 - acc: 1.0000\n",
            "Epoch 172/200\n",
            "256/256 [==============================] - 0s 52us/sample - loss: 0.0582 - acc: 1.0000\n",
            "Epoch 173/200\n",
            "256/256 [==============================] - 0s 48us/sample - loss: 0.0576 - acc: 1.0000\n",
            "Epoch 174/200\n",
            "256/256 [==============================] - 0s 54us/sample - loss: 0.0573 - acc: 1.0000\n",
            "Epoch 175/200\n",
            "256/256 [==============================] - 0s 62us/sample - loss: 0.0575 - acc: 0.9961\n",
            "Epoch 176/200\n",
            "256/256 [==============================] - 0s 46us/sample - loss: 0.0565 - acc: 1.0000\n",
            "Epoch 177/200\n",
            "256/256 [==============================] - 0s 46us/sample - loss: 0.0563 - acc: 1.0000\n",
            "Epoch 178/200\n",
            "256/256 [==============================] - 0s 46us/sample - loss: 0.0557 - acc: 1.0000\n",
            "Epoch 179/200\n",
            "256/256 [==============================] - 0s 50us/sample - loss: 0.0554 - acc: 1.0000\n",
            "Epoch 180/200\n",
            "256/256 [==============================] - 0s 48us/sample - loss: 0.0555 - acc: 1.0000\n",
            "Epoch 181/200\n",
            "256/256 [==============================] - 0s 48us/sample - loss: 0.0548 - acc: 1.0000\n",
            "Epoch 182/200\n",
            "256/256 [==============================] - 0s 50us/sample - loss: 0.0545 - acc: 1.0000\n",
            "Epoch 183/200\n",
            "256/256 [==============================] - 0s 45us/sample - loss: 0.0539 - acc: 1.0000\n",
            "Epoch 184/200\n",
            "256/256 [==============================] - 0s 53us/sample - loss: 0.0537 - acc: 1.0000\n",
            "Epoch 185/200\n",
            "256/256 [==============================] - 0s 46us/sample - loss: 0.0539 - acc: 1.0000\n",
            "Epoch 186/200\n",
            "256/256 [==============================] - 0s 50us/sample - loss: 0.0533 - acc: 1.0000\n",
            "Epoch 187/200\n",
            "256/256 [==============================] - 0s 53us/sample - loss: 0.0525 - acc: 1.0000\n",
            "Epoch 188/200\n",
            "256/256 [==============================] - 0s 51us/sample - loss: 0.0525 - acc: 1.0000\n",
            "Epoch 189/200\n",
            "256/256 [==============================] - 0s 52us/sample - loss: 0.0521 - acc: 1.0000\n",
            "Epoch 190/200\n",
            "256/256 [==============================] - 0s 51us/sample - loss: 0.0519 - acc: 1.0000\n",
            "Epoch 191/200\n",
            "256/256 [==============================] - 0s 50us/sample - loss: 0.0515 - acc: 1.0000\n",
            "Epoch 192/200\n",
            "256/256 [==============================] - 0s 52us/sample - loss: 0.0512 - acc: 1.0000\n",
            "Epoch 193/200\n",
            "256/256 [==============================] - 0s 58us/sample - loss: 0.0508 - acc: 1.0000\n",
            "Epoch 194/200\n",
            "256/256 [==============================] - 0s 55us/sample - loss: 0.0504 - acc: 1.0000\n",
            "Epoch 195/200\n",
            "256/256 [==============================] - 0s 47us/sample - loss: 0.0505 - acc: 1.0000\n",
            "Epoch 196/200\n",
            "256/256 [==============================] - 0s 48us/sample - loss: 0.0498 - acc: 1.0000\n",
            "Epoch 197/200\n",
            "256/256 [==============================] - 0s 49us/sample - loss: 0.0496 - acc: 1.0000\n",
            "Epoch 198/200\n",
            "256/256 [==============================] - 0s 50us/sample - loss: 0.0494 - acc: 1.0000\n",
            "Epoch 199/200\n",
            "256/256 [==============================] - 0s 52us/sample - loss: 0.0494 - acc: 1.0000\n",
            "Epoch 200/200\n",
            "256/256 [==============================] - 0s 56us/sample - loss: 0.0488 - acc: 1.0000\n"
          ],
          "name": "stdout"
        }
      ]
    },
    {
      "cell_type": "markdown",
      "metadata": {
        "id": "MAQBfQBMlbe0",
        "colab_type": "text"
      },
      "source": [
        "# 訓練結果出力"
      ]
    },
    {
      "cell_type": "code",
      "metadata": {
        "id": "fm1AnKjcktDp",
        "colab_type": "code",
        "outputId": "48b3c9b8-99c1-406c-c3ef-e6566a78f382",
        "colab": {
          "base_uri": "https://localhost:8080/",
          "height": 521
        }
      },
      "source": [
        "# loss出力\n",
        "loss = history.history['loss']\n",
        "\n",
        "plt.plot(np.arange(len(loss)), loss) # np.arangeはlossの連番数列を生成(今回はepoch数の0から29)\n",
        "plt.show()\n",
        "\n",
        "# accuracy出力\n",
        "acc = history.history['acc']\n",
        "\n",
        "plt.plot(np.arange(len(acc)), acc)\n",
        "plt.show()"
      ],
      "execution_count": 0,
      "outputs": [
        {
          "output_type": "display_data",
          "data": {
            "image/png": "[encoded data removed]",
            "text/plain": [
              "<Figure size 432x288 with 1 Axes>"
            ]
          },
          "metadata": {
            "tags": []
          }
        },
        {
          "output_type": "display_data",
          "data": {
            "image/png": "[encoded data removed]",
            "text/plain": [
              "<Figure size 432x288 with 1 Axes>"
            ]
          },
          "metadata": {
            "tags": []
          }
        }
      ]
    },
    {
      "cell_type": "code",
      "metadata": {
        "id": "brJGVVokmuXM",
        "colab_type": "code",
        "colab": {}
      },
      "source": [
        ""
      ],
      "execution_count": 0,
      "outputs": []
    }
  ]
}