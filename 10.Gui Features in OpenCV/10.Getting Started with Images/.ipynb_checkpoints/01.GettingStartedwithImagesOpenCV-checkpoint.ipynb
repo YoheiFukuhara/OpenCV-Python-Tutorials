{
 "cells": [
  {
   "cell_type": "code",
   "execution_count": 1,
   "metadata": {},
   "outputs": [],
   "source": [
    "import numpy as np\n",
    "import cv2, os.path"
   ]
  },
  {
   "cell_type": "code",
   "execution_count": 2,
   "metadata": {},
   "outputs": [],
   "source": [
    "path = os.path.relpath('../../images')"
   ]
  },
  {
   "cell_type": "code",
   "execution_count": 3,
   "metadata": {},
   "outputs": [
    {
     "name": "stdout",
     "output_type": "stream",
     "text": [
      "[[245 245 245 ... 247 247 247]\n",
      " [245 245 245 ... 247 247 247]\n",
      " [245 245 245 ... 247 247 247]\n",
      " ...\n",
      " [234 234 234 ... 217 217 217]\n",
      " [234 234 234 ... 218 218 218]\n",
      " [234 234 234 ... 219 219 219]]\n"
     ]
    }
   ],
   "source": [
    "# Load an color image in grayscale\n",
    "# there are 3 options cv2.IMREAD_COLOR(1), cv2.IMREAD_GRAYSCALE(0), cv2.IMREAD_UNCHANGED(-1)\n",
    "img = cv2.imread(os.path.join(path,'cat.jpg'),0)\n",
    "print(img)"
   ]
  },
  {
   "cell_type": "code",
   "execution_count": 4,
   "metadata": {},
   "outputs": [],
   "source": [
    "cv2.imshow('image',img)\n",
    "\n",
    "#  add \"\"& 0xFF\", since it is 64-bit OS\n",
    "k = cv2.waitKey(0) & 0xFF\n",
    "if k == 27:         # wait for ESC key to exit\n",
    "    cv2.destroyAllWindows()\n",
    "elif k == ord('s'): # wait for 's' key to save and exit\n",
    "    cv2.imwrite(os.path.join(path,'cat2.jpg'),img)\n",
    "    cv2.destroyAllWindows()"
   ]
  },
  {
   "cell_type": "code",
   "execution_count": null,
   "metadata": {},
   "outputs": [],
   "source": []
  }
 ],
 "metadata": {
  "kernelspec": {
   "display_name": "Python 3",
   "language": "python",
   "name": "python3"
  },
  "language_info": {
   "codemirror_mode": {
    "name": "ipython",
    "version": 3
   },
   "file_extension": ".py",
   "mimetype": "text/x-python",
   "name": "python",
   "nbconvert_exporter": "python",
   "pygments_lexer": "ipython3",
   "version": "3.7.1"
  }
 },
 "nbformat": 4,
 "nbformat_minor": 2
}
