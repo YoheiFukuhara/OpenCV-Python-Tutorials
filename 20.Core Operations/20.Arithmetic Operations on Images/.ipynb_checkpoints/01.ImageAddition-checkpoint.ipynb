{
 "cells": [
  {
   "cell_type": "code",
   "execution_count": 1,
   "metadata": {},
   "outputs": [],
   "source": [
    "import cv2\n",
    "import numpy as np"
   ]
  },
  {
   "cell_type": "code",
   "execution_count": 2,
   "metadata": {},
   "outputs": [],
   "source": [
    "def calculate_add(x_source,y_source):\n",
    "    x = np.uint8([x_source])\n",
    "    y = np.uint8([y_source])\n",
    "\n",
    "    print('cv2.add:', cv2.add(x,y)) #250 + 10 = 260 >= 255 (Maxを返す)\n",
    "    print('nmpuy add:', x + y)  # 250+10 = 260 % 256 = 4 (剰余を返す)"
   ]
  },
  {
   "cell_type": "code",
   "execution_count": 3,
   "metadata": {},
   "outputs": [
    {
     "name": "stdout",
     "output_type": "stream",
     "text": [
      "cv2.add: [[255]]\n",
      "nmpuy add: [4]\n"
     ]
    }
   ],
   "source": [
    "calculate_add(250, 10)"
   ]
  },
  {
   "cell_type": "code",
   "execution_count": 4,
   "metadata": {},
   "outputs": [
    {
     "name": "stdout",
     "output_type": "stream",
     "text": [
      "cv2.add: [[30]]\n",
      "nmpuy add: [30]\n"
     ]
    }
   ],
   "source": [
    "calculate_add(20, 10)"
   ]
  },
  {
   "cell_type": "code",
   "execution_count": 5,
   "metadata": {},
   "outputs": [
    {
     "name": "stdout",
     "output_type": "stream",
     "text": [
      "cv2.add: [[255]]\n",
      "nmpuy add: [34]\n"
     ]
    }
   ],
   "source": [
    "calculate_add(220, 70)"
   ]
  },
  {
   "cell_type": "code",
   "execution_count": null,
   "metadata": {},
   "outputs": [],
   "source": []
  }
 ],
 "metadata": {
  "kernelspec": {
   "display_name": "Python 3",
   "language": "python",
   "name": "python3"
  },
  "language_info": {
   "codemirror_mode": {
    "name": "ipython",
    "version": 3
   },
   "file_extension": ".py",
   "mimetype": "text/x-python",
   "name": "python",
   "nbconvert_exporter": "python",
   "pygments_lexer": "ipython3",
   "version": "3.7.1"
  }
 },
 "nbformat": 4,
 "nbformat_minor": 2
}
